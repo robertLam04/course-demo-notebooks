{
 "cells": [
  {
   "cell_type": "markdown",
   "metadata": {},
   "source": [
    "We can import PlantUml and define the server that will render our image."
   ]
  },
  {
   "cell_type": "code",
   "execution_count": 14,
   "metadata": {},
   "outputs": [],
   "source": [
    "from plantuml import PlantUML\n",
    "from IPython.display import Image\n",
    "from IPython.display import display\n",
    "\n",
    "plantuml_server = PlantUML(url='http://www.plantuml.com/plantuml/img/')"
   ]
  },
  {
   "cell_type": "markdown",
   "metadata": {},
   "source": [
    "Define UML content by changing the text between @startuml and @enduml. \n",
    "\n",
    "View the PlantUML class diagram docs [here](https://plantuml.com/class-diagram)."
   ]
  },
  {
   "cell_type": "code",
   "execution_count": 15,
   "metadata": {},
   "outputs": [],
   "source": [
    "uml_code = \"\"\"\n",
    "@startuml\n",
    "class Animal {\n",
    "  +String name\n",
    "  +int age\n",
    "  +void makeSound()\n",
    "}\n",
    "\n",
    "class Dog {\n",
    "  +void makeSound()\n",
    "}\n",
    "\n",
    "Animal <|-- Dog\n",
    "@enduml\n",
    "\"\"\""
   ]
  },
  {
   "cell_type": "markdown",
   "metadata": {},
   "source": [
    "Finally, generate the UML diagram and display the image:"
   ]
  },
  {
   "cell_type": "code",
   "execution_count": null,
   "metadata": {},
   "outputs": [],
   "source": [
    "result = plantuml_server.processes(uml_code)\n",
    "\n",
    "display(Image(result))"
   ]
  }
 ],
 "metadata": {
  "kernelspec": {
   "display_name": "Python 3",
   "language": "python",
   "name": "python3"
  },
  "language_info": {
   "codemirror_mode": {
    "name": "ipython",
    "version": 3
   },
   "file_extension": ".py",
   "mimetype": "text/x-python",
   "name": "python",
   "nbconvert_exporter": "python",
   "pygments_lexer": "ipython3",
   "version": "3.10.12"
  }
 },
 "nbformat": 4,
 "nbformat_minor": 2
}
