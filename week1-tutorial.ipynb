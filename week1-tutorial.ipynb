{
 "cells": [
  {
   "cell_type": "markdown",
   "metadata": {},
   "source": [
    "Install the Required Packages: You need to install the plantuml Python package and the graphviz package to handle the rendering of diagrams:"
   ]
  },
  {
   "cell_type": "code",
   "execution_count": 5,
   "metadata": {},
   "outputs": [
    {
     "name": "stdout",
     "output_type": "stream",
     "text": [
      "Defaulting to user installation because normal site-packages is not writeable\n",
      "Requirement already satisfied: plantuml in /home/rjlam55/.local/lib/python3.10/site-packages (0.3.0)\n",
      "Requirement already satisfied: httplib2 in /usr/lib/python3/dist-packages (from plantuml) (0.20.2)\n",
      "Requirement already satisfied: pyparsing!=3.0.0,!=3.0.1,!=3.0.2,!=3.0.3,<4,>=2.4.2 in /usr/lib/python3/dist-packages (from httplib2->plantuml) (2.4.7)\n",
      "Note: you may need to restart the kernel to use updated packages.\n",
      "Defaulting to user installation because normal site-packages is not writeable\n",
      "Requirement already satisfied: graphviz in /home/rjlam55/.local/lib/python3.10/site-packages (0.20.3)\n",
      "Note: you may need to restart the kernel to use updated packages.\n"
     ]
    }
   ],
   "source": [
    "%pip install plantuml\n",
    "%pip install graphviz"
   ]
  },
  {
   "cell_type": "markdown",
   "metadata": {},
   "source": [
    "Now that PlantUml is installed we can import it and define the PlantUml server that will render our image."
   ]
  },
  {
   "cell_type": "code",
   "execution_count": 6,
   "metadata": {},
   "outputs": [],
   "source": [
    "from plantuml import PlantUML\n",
    "\n",
    "# Define the PlantUML server (you can use a local PlantUML installation if you want)\n",
    "plantuml_server = PlantUML(url='http://www.plantuml.com/plantuml/img/')"
   ]
  },
  {
   "cell_type": "markdown",
   "metadata": {},
   "source": [
    "Define UML content by changing the text between @startuml and @enduml. \n",
    "\n",
    "View the PlantUML class diagram docs [here](https://plantuml.com/class-diagram)."
   ]
  },
  {
   "cell_type": "code",
   "execution_count": 10,
   "metadata": {},
   "outputs": [],
   "source": [
    "uml_code = \"\"\"\n",
    "@startuml\n",
    "class Animal {\n",
    "  +String name\n",
    "  +int age\n",
    "  +void makeSound()\n",
    "}\n",
    "\n",
    "class Dog {\n",
    "  +void makeSound()\n",
    "}\n",
    "\n",
    "Animal <|-- Dog\n",
    "@enduml\n",
    "\"\"\""
   ]
  },
  {
   "cell_type": "markdown",
   "metadata": {},
   "source": [
    "Finally, generate the UML diagram and display the image:"
   ]
  },
  {
   "cell_type": "code",
   "execution_count": 8,
   "metadata": {},
   "outputs": [
    {
     "data": {
      "image/png": "[encoded data removed]",
      "text/plain": [
       "<IPython.core.display.Image object>"
      ]
     },
     "metadata": {},
     "output_type": "display_data"
    }
   ],
   "source": [
    "result = plantuml_server.processes(uml_code)\n",
    "\n",
    "display(Image(result))"
   ]
  }
 ],
 "metadata": {
  "kernelspec": {
   "display_name": "Python 3",
   "language": "python",
   "name": "python3"
  },
  "language_info": {
   "codemirror_mode": {
    "name": "ipython",
    "version": 3
   },
   "file_extension": ".py",
   "mimetype": "text/x-python",
   "name": "python",
   "nbconvert_exporter": "python",
   "pygments_lexer": "ipython3",
   "version": "3.10.12"
  }
 },
 "nbformat": 4,
 "nbformat_minor": 2
}
