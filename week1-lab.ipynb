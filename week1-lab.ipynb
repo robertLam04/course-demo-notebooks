{
 "cells": [
  {
   "cell_type": "markdown",
   "metadata": {},
   "source": [
    "#### Java Types and Interfaces\n",
    "In this notebook, we will explore the concept of **types** and **interfaces** in Java, and understand the difference between them. We'll demonstrate these concepts with simple code examples."
   ]
  },
  {
   "cell_type": "markdown",
   "metadata": {},
   "source": [
    "#### What are Types?\n",
    "A **type** in Java is a blueprint for objects. It defines the structure and behavior (methods) that an object can have. Types can be either primitive types (e.g., `int`, `double`, etc.) or user-defined types (classes)."
   ]
  },
  {
   "cell_type": "code",
   "execution_count": 2,
   "metadata": {},
   "outputs": [
    {
     "name": "stdout",
     "output_type": "stream",
     "text": [
      "Animal name: Lion\n",
      "Animal age: 5\n",
      "Animal makes a sound\n"
     ]
    }
   ],
   "source": [
    "class Animal:\n",
    "    def __init__(self, name, age):\n",
    "        self.name = name\n",
    "        self.age = age\n",
    "\n",
    "    def make_sound(self):\n",
    "        print(\"Animal makes a sound\")\n",
    "\n",
    "# Create an instance of Animal and use its methods\n",
    "if __name__ == \"__main__\":\n",
    "    animal = Animal(\"Lion\", 5)\n",
    "    print(f\"Animal name: {animal.name}\")\n",
    "    print(f\"Animal age: {animal.age}\")\n",
    "    animal.make_sound()  # Output: Animal makes a sound"
   ]
  },
  {
   "cell_type": "markdown",
   "metadata": {},
   "source": [
    "#### What is an Interface?\n",
    "An **interface** in Java is a reference type, similar to a class, that can contain only **abstract methods** (method declarations without implementations) and **constants**. Interfaces allow us to define a contract that classes must follow, ensuring they implement certain behaviors.\n",
    "\n",
    "Interfaces are useful for achieving abstraction and multiple inheritance in Java."
   ]
  },
  {
   "cell_type": "code",
   "execution_count": 3,
   "metadata": {},
   "outputs": [
    {
     "name": "stdout",
     "output_type": "stream",
     "text": [
      "Dog barks\n",
      "Dog runs\n"
     ]
    }
   ],
   "source": [
    "from abc import ABC, abstractmethod\n",
    "\n",
    "# Defining an abstract base class (similar to an interface in Java)\n",
    "class AnimalActions(ABC):\n",
    "    \n",
    "    @abstractmethod\n",
    "    def make_sound(self):\n",
    "        pass\n",
    "\n",
    "    @abstractmethod\n",
    "    def move(self):\n",
    "        pass\n",
    "\n",
    "# Implementing the abstract base class in a subclass\n",
    "class Dog(AnimalActions):\n",
    "    def make_sound(self):\n",
    "        print(\"Dog barks\")\n",
    "    \n",
    "    def move(self):\n",
    "        print(\"Dog runs\")\n",
    "\n",
    "# Testing the implementation\n",
    "if __name__ == \"__main__\":\n",
    "    dog = Dog()\n",
    "    dog.make_sound()  # Output: Dog barks\n",
    "    dog.move()        # Output: Dog runs"
   ]
  }
 ],
 "metadata": {
  "kernelspec": {
   "display_name": "Python 3",
   "language": "python",
   "name": "python3"
  },
  "language_info": {
   "codemirror_mode": {
    "name": "ipython",
    "version": 3
   },
   "file_extension": ".py",
   "mimetype": "text/x-python",
   "name": "python",
   "nbconvert_exporter": "python",
   "pygments_lexer": "ipython3",
   "version": "3.10.12"
  }
 },
 "nbformat": 4,
 "nbformat_minor": 2
}
