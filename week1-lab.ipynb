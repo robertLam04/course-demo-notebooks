{
 "cells": [
  {
   "cell_type": "markdown",
   "metadata": {},
   "source": [
    "#### Java Types and Interfaces\n",
    "In this notebook, we will explore the concept of **types** and **interfaces** in Java, and understand the difference between them. We'll demonstrate these concepts with simple code examples."
   ]
  },
  {
   "cell_type": "markdown",
   "metadata": {},
   "source": [
    "#### What are Types?\n",
    "A **type** in Java is a blueprint for objects. It defines the structure and behavior (methods) that an object can have. Types can be either primitive types (e.g., `int`, `double`, etc.) or user-defined types (classes)."
   ]
  },
  {
   "cell_type": "code",
   "execution_count": null,
   "metadata": {
    "vscode": {
     "languageId": "java"
    }
   },
   "outputs": [],
   "source": [
    "class Animal {\n",
    "    String name;\n",
    "    int age;\n",
    "    \n",
    "    void makeSound() {\n",
    "        System.out.println(\"Animal makes a sound\");\n",
    "    }\n",
    "}\n",
    "\n",
    "// Create an instance of Animal and use its methods\n",
    "public class Main {\n",
    "    public static void main(String[] args) {\n",
    "        Animal animal = new Animal();\n",
    "        animal.name = \"Lion\";\n",
    "        animal.age = 5;\n",
    "        animal.makeSound(); // Output: Animal makes a sound\n",
    "    }\n",
    "}"
   ]
  },
  {
   "cell_type": "markdown",
   "metadata": {},
   "source": [
    "#### What is an Interface?\n",
    "An **interface** in Java is a reference type, similar to a class, that can contain only **abstract methods** (method declarations without implementations) and **constants**. Interfaces allow us to define a contract that classes must follow, ensuring they implement certain behaviors.\n",
    "\n",
    "Interfaces are useful for achieving abstraction and multiple inheritance in Java."
   ]
  },
  {
   "cell_type": "code",
   "execution_count": null,
   "metadata": {
    "vscode": {
     "languageId": "java"
    }
   },
   "outputs": [],
   "source": [
    "interface AnimalActions {\n",
    "    void makeSound();\n",
    "    void move();\n",
    "}\n",
    "\n",
    "// Implementing the interface in a class\n",
    "class Dog implements AnimalActions {\n",
    "    public void makeSound() {\n",
    "        System.out.println(\"Dog barks\");\n",
    "    }\n",
    "    public void move() {\n",
    "        System.out.println(\"Dog runs\");\n",
    "    }\n",
    "}\n",
    "\n",
    "// Testing the interface and its implementation\n",
    "public class Main {\n",
    "    public static void main(String[] args) {\n",
    "        Dog dog = new Dog();\n",
    "        dog.makeSound(); // Output: Dog barks\n",
    "        dog.move();      // Output: Dog runs\n",
    "    }\n",
    "}"
   ]
  }
 ],
 "metadata": {
  "language_info": {
   "name": "python"
  }
 },
 "nbformat": 4,
 "nbformat_minor": 2
}
